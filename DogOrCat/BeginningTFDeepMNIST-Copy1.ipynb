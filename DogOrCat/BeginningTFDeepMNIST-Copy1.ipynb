{
 "cells": [
  {
   "cell_type": "code",
   "execution_count": 4,
   "metadata": {
    "collapsed": false
   },
   "outputs": [],
   "source": [
    "import tensorflow as tf\n",
    "import numpy as np\n",
    "\n",
    "train_data = np.fromfile(\"train_data2.bin\", dtype=np.uint8).reshape(25000,784)\n",
    "train_labels = np.fromfile(\"train_labels2.bin\", dtype=np.uint8).reshape(25000,1)\n",
    "\n",
    "new_labels = list()\n",
    "\n",
    "def opposite(value):\n",
    "    if (value==0):\n",
    "        return 1\n",
    "    else:\n",
    "        return 0\n",
    "\n",
    "for i in range(25000):\n",
    "    new_labels.append([int(train_labels[i]), opposite(int(train_labels[i]))])\n",
    "\n",
    "train = train_data[:20000]\n",
    "tlabels = np.squeeze(train_labels[:20000])\n",
    "\n",
    "validate = train_data[20000:]\n",
    "vlabels = np.squeeze(train_labels[20000:])\n",
    "\n",
    "# The true test data (for estimation)\n",
    "\n",
    "#test_data = np.fromfile(\"test_data.bin\", dtype=np.uint8).reshape(12500,10000)\n"
   ]
  },
  {
   "cell_type": "code",
   "execution_count": 6,
   "metadata": {
    "collapsed": true
   },
   "outputs": [],
   "source": [
    "import tensorflow as tf\n",
    "\n",
    "# Start an interactive session\n",
    "\n",
    "sess = tf.InteractiveSession()\n",
    "\n",
    "\n",
    "# Define the placeholder variable for inputs and truth labels.\n",
    "# This will be the input that we provide when we actually run our model\n",
    "\n",
    "x = tf.placeholder(tf.float32, [None, 784])\n",
    "y_ = tf.placeholder(tf.float32, [None, 2])"
   ]
  },
  {
   "cell_type": "code",
   "execution_count": 7,
   "metadata": {
    "collapsed": true
   },
   "outputs": [],
   "source": [
    "# Define variables. Initialized in this case to vectors/matrices of 0's\n",
    "# These will be modified during the execution of the model\n",
    "\n",
    "W = tf.Variable(tf.zeros([784,2]))\n",
    "b = tf.Variable(tf.zeros([2]))"
   ]
  },
  {
   "cell_type": "code",
   "execution_count": 8,
   "metadata": {
    "collapsed": true
   },
   "outputs": [],
   "source": [
    "sess.run(tf.initialize_all_variables())"
   ]
  },
  {
   "cell_type": "code",
   "execution_count": 9,
   "metadata": {
    "collapsed": true
   },
   "outputs": [],
   "source": [
    "# Define the model output as the softmax resulting from the matrix operation x*W + b\n",
    "\n",
    "y = tf.nn.softmax(tf.matmul(x, W) + b)"
   ]
  },
  {
   "cell_type": "code",
   "execution_count": 10,
   "metadata": {
    "collapsed": true
   },
   "outputs": [],
   "source": [
    "# Define placeholder for correct values\n",
    "# Any number of rows, 10 columns\n",
    "\n",
    "\n",
    "\n",
    "# Define cross-entropy function for testing the efficiency of our predictions\n",
    "# Starts by logging all values in the y vector, then multiplies by the truth (y_)\n",
    "# It then adds up all the values in the new vector, and takes the average across all\n",
    "#     observations\n",
    "\n",
    "cross_entropy = tf.reduce_mean(-tf.reduce_sum(y_ * tf.log(y), reduction_indices=[1]))"
   ]
  },
  {
   "cell_type": "code",
   "execution_count": 11,
   "metadata": {
    "collapsed": true
   },
   "outputs": [],
   "source": [
    "# Minimize cross-entropy using a gradient descent, learning rate .5\n",
    "\n",
    "train_step = tf.train.GradientDescentOptimizer(0.5).minimize(cross_entropy)"
   ]
  },
  {
   "cell_type": "code",
   "execution_count": 21,
   "metadata": {
    "collapsed": false
   },
   "outputs": [],
   "source": [
    "# Execute training step 1000 times (stochastic training)\n",
    "\n",
    "for i in range(1000):\n",
    "    sample = np.random.randint(0,20000,100)\n",
    "    batch = train[sample]\n",
    "    batch_y = np.array(new_labels)[sample]\n",
    "    train_step.run(feed_dict={x: batch, y_: batch_y})"
   ]
  },
  {
   "cell_type": "code",
   "execution_count": 22,
   "metadata": {
    "collapsed": false
   },
   "outputs": [],
   "source": [
    "# Check how often we arrive at the correct prediction\n",
    "\n",
    "correct_prediction = tf.equal(tf.argmax(y,1), tf.argmax(y_,1))\n",
    "\n",
    "# Calculate the accuracy after casting booleans as float values\n",
    "\n",
    "accuracy = tf.reduce_mean(tf.cast(correct_prediction, tf.float32))"
   ]
  },
  {
   "cell_type": "code",
   "execution_count": 24,
   "metadata": {
    "collapsed": false
   },
   "outputs": [
    {
     "name": "stdout",
     "output_type": "stream",
     "text": [
      "0.4966\n"
     ]
    }
   ],
   "source": [
    "# Query accuracy\n",
    "\n",
    "print(accuracy.eval(feed_dict={x: validate, y_: new_labels[20000:]}))"
   ]
  },
  {
   "cell_type": "markdown",
   "metadata": {
    "collapsed": true
   },
   "source": [
    "# Starting the Convolutional Neural Network\n",
    "\n",
    "This will help to improve accuracy (hopefully by a lot)\n",
    "\n",
    "Will be using rectified linear unit neurons (ReLU). Based on activation function $f(x) = max(0,x)$. This function is considered a \"Ramp function\""
   ]
  },
  {
   "cell_type": "code",
   "execution_count": 25,
   "metadata": {
    "collapsed": true
   },
   "outputs": [],
   "source": [
    "# Initialize weights, do it with small positive noise, to avoid dead neurons, \n",
    "#     break symmetry, and prevent 0 gradients\n",
    "\n",
    "def weight_variable(shape):\n",
    "    initial = tf.truncated_normal(shape, stddev=0.1)\n",
    "    return tf.Variable(initial)\n",
    "\n",
    "def bias_variable(shape):\n",
    "    initial = tf.constant(0.1, shape=shape)\n",
    "    return tf.Variable(initial)"
   ]
  },
  {
   "cell_type": "code",
   "execution_count": 26,
   "metadata": {
    "collapsed": true
   },
   "outputs": [],
   "source": [
    "# Define convolutions with a stride size of 1 and with 0-padding, so that output is the same size as input\n",
    "# Pooling will be max pooling over 2x2 blocks of data\n",
    "\n",
    "def conv2d(x, W):\n",
    "    return tf.nn.conv2d(x, W, strides = [1, 1, 1, 1], padding = 'SAME')\n",
    "\n",
    "def max_pool_2x2(x):\n",
    "    return tf.nn.max_pool(x, ksize = [1, 2, 2, 1],\n",
    "                         strides = [1, 2, 2, 1], padding = 'SAME')"
   ]
  },
  {
   "cell_type": "code",
   "execution_count": 27,
   "metadata": {
    "collapsed": false
   },
   "outputs": [],
   "source": [
    "# Create first layer of the neural net: convolution followed by max pooling\n",
    "# Compute 32 features for each 5x5 patch, with weight tensor of dimension [5, 5, 1, 32]\n",
    "#     where dimensions are patch size (5 and 5), input channels (1), and output channels (32)\n",
    "# Create a bias vector with an element for each output channel\n",
    "\n",
    "W_conv1 = weight_variable([5, 5, 1, 32])\n",
    "b_conv1 = bias_variable([32])\n",
    "\n"
   ]
  },
  {
   "cell_type": "code",
   "execution_count": 28,
   "metadata": {
    "collapsed": true
   },
   "outputs": [],
   "source": [
    "# Reshape x to a 4d tensor: first dimension = ?, \n",
    "#    second and third: image width and height, fourth: number of color channels\n",
    "\n",
    "x_image = tf.reshape(x, [-1, 28, 28, 1])"
   ]
  },
  {
   "cell_type": "code",
   "execution_count": 29,
   "metadata": {
    "collapsed": true
   },
   "outputs": [],
   "source": [
    "# Convolve x_image with the weight and add the bias, apply the ReLU function, and max pool\n",
    "\n",
    "h_conv1 = tf.nn.relu(conv2d(x_image, W_conv1) + b_conv1)\n",
    "h_pool1 = max_pool_2x2(h_conv1)"
   ]
  },
  {
   "cell_type": "code",
   "execution_count": 30,
   "metadata": {
    "collapsed": true
   },
   "outputs": [],
   "source": [
    "# Stack several layers in order to build a deep network. \n",
    "# This layer will have 64 features for each 5x5 patch\n",
    "\n",
    "W_conv2 = weight_variable([5, 5, 32, 64])\n",
    "b_conv2 = bias_variable([64])\n",
    "\n",
    "h_conv2 = tf.nn.relu(conv2d(h_pool1, W_conv2) + b_conv2)\n",
    "h_pool2 = max_pool_2x2(h_conv2)"
   ]
  },
  {
   "cell_type": "code",
   "execution_count": 31,
   "metadata": {
    "collapsed": true
   },
   "outputs": [],
   "source": [
    "# Densely Connected Layer. We have a 7x7 image, and use 1024 neurons to allow processing\n",
    "#     on the entire image.\n",
    "# Reshape tensor from pooling layer into batch of vectors, multiply by weight matrix, and add bias\n",
    "#     then apply the ReLU function\n",
    "\n",
    "W_fc1 = weight_variable([7 * 7 * 64, 1024])\n",
    "b_fc1 = bias_variable([1024])\n",
    "\n",
    "h_pool2_flat = tf.reshape(h_pool2, [-1, 7*7*64])\n",
    "h_fc1 = tf.nn.relu(tf.matmul(h_pool2_flat, W_fc1) + b_fc1)"
   ]
  },
  {
   "cell_type": "code",
   "execution_count": 32,
   "metadata": {
    "collapsed": true
   },
   "outputs": [],
   "source": [
    "# Reduce overfitting by applying dropout, assigning probabilities that a neuron's output is kept\n",
    "#     so that we can turn on dropout for training, and off for testing\n",
    "\n",
    "keep_prob = tf.placeholder(tf.float32)\n",
    "h_fc1_drop = tf.nn.dropout(h_fc1, keep_prob)"
   ]
  },
  {
   "cell_type": "code",
   "execution_count": 35,
   "metadata": {
    "collapsed": true
   },
   "outputs": [],
   "source": [
    "# Add a softmax layer\n",
    "\n",
    "W_fc2 = weight_variable([1024, 2])\n",
    "b_fc2 = bias_variable([2])\n",
    "\n",
    "y_conv=tf.nn.softmax(tf.matmul(h_fc1_drop, W_fc2) + b_fc2)"
   ]
  },
  {
   "cell_type": "code",
   "execution_count": null,
   "metadata": {
    "collapsed": false,
    "scrolled": false
   },
   "outputs": [],
   "source": [
    "# ADAM optimizer, include a probability for the dropout rate, log every 100th iteration's accuracy\n",
    "# Run 20,000 iterations of the neural net on 50 observations (pre-dropout)\n",
    "\n",
    "cross_entropy = tf.reduce_mean(-tf.reduce_sum(y_ * tf.log(y_conv), reduction_indices=[1]))\n",
    "train_step = tf.train.AdamOptimizer(1e-4).minimize(cross_entropy)\n",
    "correct_prediction = tf.equal(tf.argmax(y_conv,1), tf.argmax(y_,1))\n",
    "accuracy = tf.reduce_mean(tf.cast(correct_prediction, tf.float32))\n",
    "\n",
    "sess.run(tf.initialize_all_variables())\n",
    "\n",
    "for i in range(20000):\n",
    "    sample = np.random.randint(0,20000,50)\n",
    "    batch = train[sample]\n",
    "    batch_y = np.array(new_labels)[sample]\n",
    "    if i%100 == 0:\n",
    "        train_accuracy = accuracy.eval(feed_dict = {\n",
    "                x:batch, y_: batch_y, keep_prob: 1.0\n",
    "            })\n",
    "        print(\"Step %d, training accuracy %g\" % (i, train_accuracy))\n",
    "    train_step.run(feed_dict={x:batch, y_:batch_y, keep_prob:0.5})\n",
    "    \n",
    "print(\"Test Accuracy %g\" % accuracy.eval(feed_dict={\n",
    "            x: validate, y_: new_labels[20000:], keep_prob:1.0\n",
    "        }))"
   ]
  },
  {
   "cell_type": "code",
   "execution_count": null,
   "metadata": {
    "collapsed": true
   },
   "outputs": [],
   "source": []
  }
 ],
 "metadata": {
  "anaconda-cloud": {},
  "kernelspec": {
   "display_name": "Python [conda root]",
   "language": "python",
   "name": "conda-root-py"
  },
  "language_info": {
   "codemirror_mode": {
    "name": "ipython",
    "version": 3
   },
   "file_extension": ".py",
   "mimetype": "text/x-python",
   "name": "python",
   "nbconvert_exporter": "python",
   "pygments_lexer": "ipython3",
   "version": "3.5.2"
  }
 },
 "nbformat": 4,
 "nbformat_minor": 0
}
