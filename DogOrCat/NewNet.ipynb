{
 "cells": [
  {
   "cell_type": "code",
   "execution_count": 1,
   "metadata": {
    "collapsed": false
   },
   "outputs": [],
   "source": [
    "import tensorflow as tf\n",
    "import numpy as np\n",
    "import pandas as pd\n",
    "import tflearn\n",
    "\n",
    "def sample_images(data, labels, n=50):\n",
    "    values = np.random.randint(0,np.shape(data)[0], size=n)\n",
    "    return data[values], labels[values]\n",
    "\n",
    "def shuffle_images(data, labels):\n",
    "    tmp = range(np.shape(data)[0])\n",
    "    random.shuffle(tmp)\n",
    "    cut = int(.9* np.shape(data)[0])\n",
    "    return data[:cut], labels[:cut], data[cut:], labels[cut:]\n",
    "\n",
    "def softmax(predictions):\n",
    "    rows, cols = np.shape(predictions)\n",
    "    retVal = np.zeros([rows, 1])\n",
    "    for i in range(rows):\n",
    "        best = 0\n",
    "        prob = 0\n",
    "        for j in range(cols):\n",
    "            if (predictions[i][j]>prob):\n",
    "                prob = predictions[i][j]\n",
    "                best = j\n",
    "        retVal[i] = best\n",
    "    return retVal\n",
    "\n",
    "def accuracy(predictions, truth):\n",
    "    acc = np.zeros([5000,1])\n",
    "    for i in range(5000):\n",
    "        if (softmax(pred)[i]==truth):\n",
    "            acc[i] = 1\n",
    "    return np.mean(acc)"
   ]
  },
  {
   "cell_type": "code",
   "execution_count": 2,
   "metadata": {
    "collapsed": true
   },
   "outputs": [],
   "source": [
    "data = np.fromfile(\"train_data3.bin\", dtype=np.uint8).reshape(25000,100,100,3)\n",
    "data = data/255\n",
    "labels = np.fromfile(\"train_labels3.bin\", dtype=np.uint8)\n",
    "labelhot = np.array(pd.get_dummies(labels))\n",
    "\n",
    "train, tlabels, validate, vlabels = shuffle_images(data, labelhot)\n"
   ]
  },
  {
   "cell_type": "code",
   "execution_count": 3,
   "metadata": {
    "collapsed": true
   },
   "outputs": [],
   "source": [
    "# Classification\n",
    "tflearn.init_graph(num_cores=16, gpu_memory_fraction=1)\n",
    "\n",
    "net = tflearn.input_data(shape=(None, 100, 100, 3))\n",
    "net = tflearn.fully_connected(net, 100)\n",
    "net = tflearn.fully_connected(net, 100)\n",
    "net = tflearn.fully_connected(net, 100)\n",
    "net = tflearn.fully_connected(net, 100)\n",
    "net = tflearn.fully_connected(net, 100)\n",
    "net = tflearn.fully_connected(net, 100)\n",
    "net = tflearn.fully_connected(net, 100)\n",
    "net = tflearn.fully_connected(net, 2, activation='softmax')\n",
    "net = tflearn.regression(net, optimizer='adam', loss='categorical_crossentropy')\n",
    "\n",
    "model = tflearn.DNN(net)\n"
   ]
  },
  {
   "cell_type": "code",
   "execution_count": 4,
   "metadata": {
    "collapsed": false
   },
   "outputs": [
    {
     "name": "stdout",
     "output_type": "stream",
     "text": [
      "Training Step: 100000  | total loss: \u001b[1m\u001b[32m0.19947\u001b[0m\u001b[0m\n",
      "| Adam | epoch: 250 | loss: 0.19947 - acc: 0.9171 -- iter: 20000/20000\n",
      "Training Step: 100000  | total loss: \u001b[1m\u001b[32m0.19947\u001b[0m\u001b[0m\n",
      "| Adam | epoch: 250 | loss: 0.19947 - acc: 0.9171 -- iter: 20000/20000\n",
      "--\n"
     ]
    }
   ],
   "source": [
    "model.fit(train, tlabels, n_epoch=250, batch_size=50, show_metric=True)"
   ]
  },
  {
   "cell_type": "code",
   "execution_count": null,
   "metadata": {
    "collapsed": true
   },
   "outputs": [],
   "source": [
    "pred = model.predict(validate)\n",
    "\n",
    "accuracy(pred, vlabels)"
   ]
  },
  {
   "cell_type": "code",
   "execution_count": 25,
   "metadata": {
    "collapsed": false
   },
   "outputs": [],
   "source": [
    "test = np.fromfile(\"test_data3.bin\", dtype=np.uint8).reshape(12500,100,100,3)\n",
    "test = test/255\n",
    "\n",
    "testRes = model.predict(test)"
   ]
  },
  {
   "cell_type": "code",
   "execution_count": 26,
   "metadata": {
    "collapsed": false
   },
   "outputs": [],
   "source": [
    "answer = pd.concat([pd.DataFrame(list(range(1,12501))),pd.DataFrame(testRes)[0]], axis=1)\n",
    "answer.columns = ['id', 'label']\n",
    "answer.to_csv(\"answer.csv\", index=None)"
   ]
  },
  {
   "cell_type": "markdown",
   "metadata": {},
   "source": [
    "### Gave a loss of .97, probably because it cannot make use of the shape of the data...\n",
    "\n",
    "# Even worse, it was because the answers were not sorted correctly!"
   ]
  },
  {
   "cell_type": "code",
   "execution_count": null,
   "metadata": {
    "collapsed": true
   },
   "outputs": [],
   "source": []
  }
 ],
 "metadata": {
  "anaconda-cloud": {},
  "kernelspec": {
   "display_name": "Python [default]",
   "language": "python",
   "name": "python3"
  },
  "language_info": {
   "codemirror_mode": {
    "name": "ipython",
    "version": 3
   },
   "file_extension": ".py",
   "mimetype": "text/x-python",
   "name": "python",
   "nbconvert_exporter": "python",
   "pygments_lexer": "ipython3",
   "version": "3.5.2"
  }
 },
 "nbformat": 4,
 "nbformat_minor": 1
}
