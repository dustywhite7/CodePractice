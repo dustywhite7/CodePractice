{
 "cells": [
  {
   "cell_type": "code",
   "execution_count": 2,
   "metadata": {
    "collapsed": true
   },
   "outputs": [],
   "source": [
    "# Generating binary file of the training data, forcing each image to be 100x100 pixels\n",
    "\n",
    "import numpy as np\n",
    "import os\n",
    "import PIL.Image as img\n",
    "import pandas as pd\n",
    "\n",
    "train_dir = \"/home/dusty/CodePractice/DogOrCat/train/\"\n",
    "test_dir = \"/home/dusty/CodePractice/DogOrCat/test/\"\n",
    "train_pics = os.listdir(train_dir)\n",
    "test_pics = os.listdir(test_dir)\n",
    "\n",
    "\n",
    "labels = list()\n",
    "data = list()\n",
    "    \n",
    "for i in range(len(train_pics)):\n",
    "    labels.append(train_pics[i].find(\"dog\")+1)\n",
    "    data.append(list(img.open(train_dir + train_pics[i]).convert(\"L\").resize((28,28)).getdata()))\n",
    "\n",
    "data_array = np.array(data, dtype=np.uint8)\n",
    "data_array.tofile(\"train_data2.bin\")\n",
    "\n",
    "label_array = np.array(labels, dtype=np.uint8)\n",
    "label_array.tofile(\"train_labels2.bin\")\n",
    "\n",
    "\n",
    "# Generating binary file of the test data, forcing each image to be 100x100 pixels\n",
    "\n",
    "labels = list()\n",
    "data = list()\n",
    "    \n",
    "for i in range(len(test_pics)):\n",
    "    labels.append(test_pics[i].find(\"dog\")+1)\n",
    "    data.append(list(img.open(test_dir + test_pics[i]).convert(\"L\").resize((28,28)).getdata()))\n",
    "\n",
    "data_array = np.array(data, dtype=np.uint8)\n",
    "data_array.tofile(\"test_data2.bin\")"
   ]
  },
  {
   "cell_type": "code",
   "execution_count": 1,
   "metadata": {
    "collapsed": false
   },
   "outputs": [],
   "source": [
    "import tensorflow as tf\n",
    "import numpy as np\n",
    "\n",
    "train_data = np.fromfile(\"train_data.bin\", dtype=np.uint8).reshape(25000,10000)\n",
    "train_labels = np.fromfile(\"train_labels.bin\", dtype=np.uint8).reshape(25000,1)\n",
    "\n",
    "new_labels = list()\n",
    "\n",
    "def opposite(value):\n",
    "    if (value==0):\n",
    "        return 1\n",
    "    else:\n",
    "        return 0\n",
    "\n",
    "for i in range(25000):\n",
    "    new_labels.append([int(train_labels[i]), opposite(int(train_labels[i]))])\n",
    "\n",
    "train = train_data[:20000]\n",
    "tlabels = np.squeeze(train_labels[:20000])\n",
    "\n",
    "validate = train_data[20000:]\n",
    "vlabels = np.squeeze(train_labels[20000:])\n",
    "\n",
    "# The true test data (for estimation)\n",
    "\n",
    "#test_data = np.fromfile(\"test_data.bin\", dtype=np.uint8).reshape(12500,10000)\n"
   ]
  },
  {
   "cell_type": "code",
   "execution_count": 2,
   "metadata": {
    "collapsed": true
   },
   "outputs": [],
   "source": [
    "import pandas as pd\n",
    "\n",
    "pd.concat([pd.DataFrame(train),pd.DataFrame(tlabels)], axis=1).to_csv(\"train_data.csv\", index=False, header=False)\n",
    "\n",
    "pd.concat([pd.DataFrame(validate),pd.DataFrame(vlabels)], axis=1).to_csv(\"validate.csv\", index=False, header=False)\n"
   ]
  },
  {
   "cell_type": "code",
   "execution_count": 3,
   "metadata": {
    "collapsed": false
   },
   "outputs": [],
   "source": [
    "import tensorflow as tf\n",
    "import numpy as np\n",
    "import pandas as pd\n",
    "\n",
    "train_data = pd.DataFrame(np.fromfile(\"test_data.bin\", dtype=np.uint8).reshape(12500,10000)).to_csv(\"test_data.csv\", index=False, header=False)"
   ]
  },
  {
   "cell_type": "code",
   "execution_count": 4,
   "metadata": {
    "collapsed": true
   },
   "outputs": [],
   "source": [
    "# Generating binary file of the training data, forcing each image to be 100x100 pixels\n",
    "\n",
    "import numpy as np\n",
    "import os\n",
    "import PIL.Image as img\n",
    "import pandas as pd\n",
    "\n",
    "train_dir = \"/home/dusty/CodePractice/DogOrCat/train/\"\n",
    "test_dir = \"/home/dusty/CodePractice/DogOrCat/test/\"\n",
    "train_pics = os.listdir(train_dir)\n",
    "test_pics = os.listdir(test_dir)\n",
    "\n",
    "\n",
    "labels = list()\n",
    "data = list()\n",
    "    "
   ]
  },
  {
   "cell_type": "code",
   "execution_count": 9,
   "metadata": {
    "collapsed": true
   },
   "outputs": [
    {
     "data": {
      "text/plain": [
       "array([[[255, 255, 255],\n",
       "        [255, 255, 255],\n",
       "        [255, 255, 255],\n",
       "        ..., \n",
       "        [ 36,  69,  22],\n",
       "        [ 27,  57,  19],\n",
       "        [ 40,  59,  37]],\n",
       "\n",
       "       [[255, 255, 255],\n",
       "        [255, 255, 255],\n",
       "        [255, 255, 255],\n",
       "        ..., \n",
       "        [ 42,  73,  31],\n",
       "        [ 40,  70,  36],\n",
       "        [ 50,  69,  49]],\n",
       "\n",
       "       [[255, 255, 255],\n",
       "        [255, 255, 255],\n",
       "        [255, 255, 255],\n",
       "        ..., \n",
       "        [ 49,  74,  42],\n",
       "        [ 40,  64,  40],\n",
       "        [ 47,  65,  53]],\n",
       "\n",
       "       ..., \n",
       "       [[253,  76,  86],\n",
       "        [253,  80,  86],\n",
       "        [255,  96,  97],\n",
       "        ..., \n",
       "        [116,  71,  50],\n",
       "        [124,  69,  48],\n",
       "        [139,  74,  52]],\n",
       "\n",
       "       [[240,  60,  63],\n",
       "        [238,  65,  67],\n",
       "        [255,  96,  98],\n",
       "        ..., \n",
       "        [ 83,  48,  29],\n",
       "        [114,  66,  46],\n",
       "        [129,  71,  49]],\n",
       "\n",
       "       [[233,  55,  45],\n",
       "        [248,  79,  74],\n",
       "        [250,  98,  97],\n",
       "        ..., \n",
       "        [ 72,  44,  32],\n",
       "        [ 86,  49,  31],\n",
       "        [111,  66,  45]]])"
      ]
     },
     "execution_count": 9,
     "metadata": {},
     "output_type": "execute_result"
    }
   ],
   "source": [
    "np.array(img.open(train_dir + train_pics[i]).resize((100,100)).getdata()).reshape((100,100,3))"
   ]
  },
  {
   "cell_type": "code",
   "execution_count": 12,
   "metadata": {
    "collapsed": false
   },
   "outputs": [],
   "source": [
    "for i in range(1000):\n",
    "    labels.append(train_pics[i].find(\"dog\")+1)\n",
    "    data.append(np.array(img.open(train_dir + train_pics[i]).resize((100,100)).getdata()).reshape((100,100,3)))\n",
    "print(np.shape(data))"
   ]
  },
  {
   "cell_type": "code",
   "execution_count": 15,
   "metadata": {
    "collapsed": true
   },
   "outputs": [],
   "source": [
    "data_array = np.array(data, dtype=np.uint8)\n",
    "data_array.tofile(\"train_data3.bin\")\n",
    "\n",
    "label_array = np.array(labels, dtype=np.uint8)\n",
    "label_array.tofile(\"train_labels3.bin\")"
   ]
  },
  {
   "cell_type": "code",
   "execution_count": null,
   "metadata": {
    "collapsed": true
   },
   "outputs": [],
   "source": [
    "# Generating binary file of the test data, forcing each image to be 100x100 pixels\n",
    "\n",
    "labels = list()\n",
    "data = list()\n",
    "    \n",
    "for i in range(len(test_pics)):\n",
    "    labels.append(test_pics[i].find(\"dog\")+1)\n",
    "    data.append(list(img.open(test_dir + test_pics[i]).convert(\"L\").resize((28,28)).getdata()))\n",
    "\n",
    "data_array = np.array(data, dtype=np.uint8)\n",
    "data_array.tofile(\"test_data2.bin\")"
   ]
  }
 ],
 "metadata": {
  "anaconda-cloud": {},
  "kernelspec": {
   "display_name": "Python [conda root]",
   "language": "python",
   "name": "conda-root-py"
  },
  "language_info": {
   "codemirror_mode": {
    "name": "ipython",
    "version": 3
   },
   "file_extension": ".py",
   "mimetype": "text/x-python",
   "name": "python",
   "nbconvert_exporter": "python",
   "pygments_lexer": "ipython3",
   "version": "3.5.2"
  }
 },
 "nbformat": 4,
 "nbformat_minor": 0
}
