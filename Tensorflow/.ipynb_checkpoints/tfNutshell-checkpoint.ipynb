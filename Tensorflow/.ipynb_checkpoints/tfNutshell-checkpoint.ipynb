{
 "cells": [
  {
   "cell_type": "code",
   "execution_count": 1,
   "metadata": {
    "collapsed": true
   },
   "outputs": [],
   "source": [
    "import tensorflow as tf"
   ]
  },
  {
   "cell_type": "code",
   "execution_count": 3,
   "metadata": {
    "collapsed": false
   },
   "outputs": [
    {
     "data": {
      "text/plain": [
       "<tf.Tensor 'LogicalXor:0' shape=() dtype=bool>"
      ]
     },
     "execution_count": 3,
     "metadata": {},
     "output_type": "execute_result"
    }
   ],
   "source": [
    "##        Each operator can be pass a constant, an array, a matrix, \n",
    "##        or an n-dimensional matrix (n-dim matrices being called tensors)\n",
    "\n",
    "tf.add(1, 2)\n",
    "# 3\n",
    "\n",
    "tf.sub(2, 1)\n",
    "# 1\n",
    "\n",
    "tf.mul(2, 2)\n",
    "# 4\n",
    "\n",
    "tf.div(2, 2)\n",
    "# 1\n",
    "\n",
    "tf.mod(4, 5)\n",
    "# 4\n",
    "\n",
    "tf.pow(3, 2)\n",
    "# 9\n",
    "\n",
    "# x < y\n",
    "tf.less(1, 2)\n",
    "# True \n",
    "\n",
    "# x <= y\n",
    "tf.less_equal(1, 1)\n",
    "# True\n",
    "\n",
    "tf.greater(1, 2)\n",
    "# False\n",
    "\n",
    "tf.greater_equal(1, 2)\n",
    "# False\n",
    "\n",
    "tf.logical_and(True, False)\n",
    "# False\n",
    "\n",
    "tf.logical_or(True, False)\n",
    "# True\n",
    "\n",
    "tf.logical_xor(True, False)\n",
    "# True"
   ]
  },
  {
   "cell_type": "code",
   "execution_count": 12,
   "metadata": {
    "collapsed": false
   },
   "outputs": [
    {
     "name": "stdout",
     "output_type": "stream",
     "text": [
      "[[ 19.  22.]\n",
      " [ 43.  50.]]\n"
     ]
    }
   ],
   "source": [
    "\n",
    "# create two constant 2x2 matrices\n",
    "tensor_1 = tf.constant([[1.,2.],[3.,4.]])\n",
    "\n",
    "tensor_2 = tf.constant([[5.,6.],[7.,8.]])\n",
    "\n",
    "# create a matrix multiplication operation\n",
    "output_tensor = tf.matmul(tensor_1, tensor_2)\n",
    "\n",
    "# run graph using a session\n",
    "sess = tf.Session()\n",
    "\n",
    "result = sess.run(output_tensor)\n",
    "print(result)\n",
    "\n",
    "sess.close()"
   ]
  },
  {
   "cell_type": "code",
   "execution_count": 8,
   "metadata": {
    "collapsed": false
   },
   "outputs": [
    {
     "data": {
      "text/plain": [
       "3"
      ]
     },
     "execution_count": 8,
     "metadata": {},
     "output_type": "execute_result"
    }
   ],
   "source": [
    "sess = tf.InteractiveSession()\n",
    "a = tf.constant(1)\n",
    "b = tf.constant(2)\n",
    "c = a + b\n",
    "# instead of sess.run(c)\n",
    "c.eval()"
   ]
  },
  {
   "cell_type": "code",
   "execution_count": null,
   "metadata": {
    "collapsed": true
   },
   "outputs": [],
   "source": []
  }
 ],
 "metadata": {
  "kernelspec": {
   "display_name": "Python [Root]",
   "language": "python",
   "name": "Python [Root]"
  },
  "language_info": {
   "codemirror_mode": {
    "name": "ipython",
    "version": 3
   },
   "file_extension": ".py",
   "mimetype": "text/x-python",
   "name": "python",
   "nbconvert_exporter": "python",
   "pygments_lexer": "ipython3",
   "version": "3.5.2"
  }
 },
 "nbformat": 4,
 "nbformat_minor": 0
}
