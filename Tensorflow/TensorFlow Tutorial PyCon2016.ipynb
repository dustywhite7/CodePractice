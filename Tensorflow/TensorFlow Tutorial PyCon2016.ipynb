{
 "cells": [
  {
   "cell_type": "code",
   "execution_count": 1,
   "metadata": {
    "collapsed": false
   },
   "outputs": [],
   "source": [
    "import numpy as np\n",
    "import pandas as pd\n",
    "\n",
    "import tensorflow as tf"
   ]
  },
  {
   "cell_type": "code",
   "execution_count": 2,
   "metadata": {
    "collapsed": false
   },
   "outputs": [
    {
     "name": "stdout",
     "output_type": "stream",
     "text": [
      "Initialized\n",
      "m2: \n",
      "<tensorflow.python.ops.variables.Variable object at 0x11b151f60>\n",
      "eval m2: \n",
      "[[-0.86933422 -0.81694651 -0.89179397]\n",
      " [-0.94384623  0.18375397  0.31771255]]\n",
      "\n",
      "result: \n",
      "[[ -2.75702667  -0.44943857  -0.25636888]\n",
      " [ -6.38338757  -1.71582365  -1.40453172]\n",
      " [-10.00974846  -2.98220873  -2.5526948 ]\n",
      " [-13.63610935  -4.24859381  -3.70085716]]\n",
      "result doubled: \n",
      "[[ -5.51405334  -0.89887714  -0.51273775]\n",
      " [-12.76677513  -3.4316473   -2.80906343]\n",
      " [-20.01949692  -5.96441746  -5.1053896 ]\n",
      " [-27.2722187   -8.49718761  -7.40171432]]\n",
      "\n"
     ]
    }
   ],
   "source": [
    "### INTRO TO BUILDING A GRAPH IN TF\n",
    "\n",
    "\n",
    "graph = tf.Graph()\n",
    "m1 = np.array([[1.,2.],[3.,4.],[5.,6.],[7.,8.]], dtype=np.float32)\n",
    "\n",
    "\n",
    "with graph.as_default():\n",
    "    \n",
    "    m1_input = tf.placeholder(tf.float32, shape=[4,2])\n",
    "    \n",
    "    \n",
    "    with tf.device('/cpu:0'):\n",
    "        \n",
    "        m2 = tf.Variable(tf.random_uniform([2,3], -1.0, 1.0))\n",
    "        \n",
    "        m3 = tf.matmul(m1_input, m2)\n",
    "        \n",
    "        m4 = tf.add(m3, m3)\n",
    "        \n",
    "        init = tf.initialize_all_variables()\n",
    "\n",
    "with tf.Session(graph=graph) as session:\n",
    "    \n",
    "    init.run()\n",
    "    print(\"Initialized\")\n",
    "    \n",
    "    print(\"m2: \\n{}\".format(m2))\n",
    "    print(\"eval m2: \\n{}\".format(m2.eval()))\n",
    "    \n",
    "    feed_dict = {m1_input: m1}\n",
    "    \n",
    "    result3, result4 = session.run([m3, m4], feed_dict=feed_dict)\n",
    "    print(\"\\nresult: \\n{}\\nresult doubled: \\n{}\\n\".format(result3, result4))"
   ]
  },
  {
   "cell_type": "code",
   "execution_count": null,
   "metadata": {
    "collapsed": true
   },
   "outputs": [],
   "source": [
    "### word2vec Vector representation of words\n",
    "\n"
   ]
  }
 ],
 "metadata": {
  "anaconda-cloud": {},
  "kernelspec": {
   "display_name": "Python [Root]",
   "language": "python",
   "name": "Python [Root]"
  },
  "language_info": {
   "codemirror_mode": {
    "name": "ipython",
    "version": 3
   },
   "file_extension": ".py",
   "mimetype": "text/x-python",
   "name": "python",
   "nbconvert_exporter": "python",
   "pygments_lexer": "ipython3",
   "version": "3.5.2"
  }
 },
 "nbformat": 4,
 "nbformat_minor": 0
}
