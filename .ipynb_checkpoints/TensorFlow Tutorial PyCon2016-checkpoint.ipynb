{
 "cells": [
  {
   "cell_type": "code",
   "execution_count": 2,
   "metadata": {
    "collapsed": false
   },
   "outputs": [],
   "source": [
    "import numpy as np\n",
    "import pandas as pd\n",
    "\n",
    "import tensorflow as tf"
   ]
  },
  {
   "cell_type": "code",
   "execution_count": 20,
   "metadata": {
    "collapsed": false
   },
   "outputs": [
    {
     "name": "stdout",
     "output_type": "stream",
     "text": [
      "Initialized\n",
      "m2: \n",
      "<tensorflow.python.ops.variables.Variable object at 0x11b442780>\n",
      "eval m2: \n",
      "[[ 0.32879233  0.20933056  0.72740555]\n",
      " [-0.78450274  0.02745724 -0.81313276]]\n",
      "\n",
      "result: \n",
      "[[-1.24021316  0.26424503 -0.89885998]\n",
      " [-2.15163398  0.73782063 -1.07031441]\n",
      " [-3.0630548   1.21139622 -1.24176884]\n",
      " [-3.97447562  1.68497181 -1.41322327]]\n",
      "result doubled: \n",
      "[[-2.48042631  0.52849007 -1.79771996]\n",
      " [-4.30326796  1.47564125 -2.14062881]\n",
      " [-6.1261096   2.42279243 -2.48353767]\n",
      " [-7.94895124  3.36994362 -2.82644653]]\n",
      "\n"
     ]
    }
   ],
   "source": [
    "### INTRO TO BUILDING A GRAPH IN TF\n",
    "\n",
    "\n",
    "graph = tf.Graph()\n",
    "m1 = np.array([[1.,2.],[3.,4.],[5.,6.],[7.,8.]], dtype=np.float32)\n",
    "\n",
    "\n",
    "with graph.as_default():\n",
    "    \n",
    "    m1_input = tf.placeholder(tf.float32, shape=[4,2])\n",
    "    \n",
    "    \n",
    "    with tf.device('/cpu:0'):\n",
    "        \n",
    "        m2 = tf.Variable(tf.random_uniform([2,3], -1.0, 1.0))\n",
    "        \n",
    "        m3 = tf.matmul(m1_input, m2)\n",
    "        \n",
    "        m4 = tf.add(m3, m3)\n",
    "        \n",
    "        init = tf.initialize_all_variables()\n",
    "\n",
    "with tf.Session(graph=graph) as session:\n",
    "    \n",
    "    init.run()\n",
    "    print(\"Initialized\")\n",
    "    \n",
    "    print(\"m2: \\n{}\".format(m2))\n",
    "    print(\"eval m2: \\n{}\".format(m2.eval()))\n",
    "    \n",
    "    feed_dict = {m1_input: m1}\n",
    "    \n",
    "    result3, result4 = session.run([m3, m4], feed_dict=feed_dict)\n",
    "    print(\"\\nresult: \\n{}\\nresult doubled: \\n{}\\n\".format(result3, result4))"
   ]
  },
  {
   "cell_type": "code",
   "execution_count": null,
   "metadata": {
    "collapsed": true
   },
   "outputs": [],
   "source": [
    "### word2vec Vector representation of words"
   ]
  }
 ],
 "metadata": {
  "kernelspec": {
   "display_name": "Python [Root]",
   "language": "python",
   "name": "Python [Root]"
  },
  "language_info": {
   "codemirror_mode": {
    "name": "ipython",
    "version": 3
   },
   "file_extension": ".py",
   "mimetype": "text/x-python",
   "name": "python",
   "nbconvert_exporter": "python",
   "pygments_lexer": "ipython3",
   "version": "3.5.2"
  }
 },
 "nbformat": 4,
 "nbformat_minor": 0
}
