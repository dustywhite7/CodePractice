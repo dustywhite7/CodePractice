{
 "cells": [
  {
   "cell_type": "code",
   "execution_count": 1,
   "metadata": {
    "collapsed": true
   },
   "outputs": [],
   "source": [
    "import pandas as pd\n",
    "import numpy as np"
   ]
  },
  {
   "cell_type": "code",
   "execution_count": 2,
   "metadata": {
    "collapsed": false,
    "scrolled": true
   },
   "outputs": [],
   "source": [
    "data = pd.read_csv(\"/home/dusty/DatasetsDA/gradeData/student-mat.csv\", sep=\";\")"
   ]
  },
  {
   "cell_type": "code",
   "execution_count": 3,
   "metadata": {
    "collapsed": false
   },
   "outputs": [
    {
     "name": "stdout",
     "output_type": "stream",
     "text": [
      "Index(['GP', 'MS'], dtype='object')\n",
      "Index(['F', 'M'], dtype='object')\n",
      "Index(['R', 'U'], dtype='object')\n",
      "Index(['GT3', 'LE3'], dtype='object')\n",
      "Index(['A', 'T'], dtype='object')\n",
      "Int64Index([0, 1, 2, 3, 4], dtype='int64')\n",
      "Int64Index([0, 1, 2, 3, 4], dtype='int64')\n",
      "Index(['at_home', 'health', 'other', 'services', 'teacher'], dtype='object')\n",
      "Index(['at_home', 'health', 'other', 'services', 'teacher'], dtype='object')\n",
      "Index(['father', 'mother', 'other'], dtype='object')\n",
      "Index(['course', 'home', 'other', 'reputation'], dtype='object')\n",
      "Index(['no', 'yes'], dtype='object')\n",
      "Index(['no', 'yes'], dtype='object')\n",
      "Index(['no', 'yes'], dtype='object')\n",
      "Index(['no', 'yes'], dtype='object')\n",
      "Index(['no', 'yes'], dtype='object')\n",
      "Index(['no', 'yes'], dtype='object')\n",
      "Index(['no', 'yes'], dtype='object')\n",
      "Index(['no', 'yes'], dtype='object')\n"
     ]
    }
   ],
   "source": [
    "x = data.drop([\"G1\", \"G2\", \"G3\"], axis=1)\n",
    "x.school = x.school.astype('category')\n",
    "x.sex = x.sex.astype('category')\n",
    "x.address = x.address.astype('category')\n",
    "x.famsize = x.famsize.astype('category')\n",
    "x.Pstatus = x.Pstatus.astype('category')\n",
    "x.Medu = x.Medu.astype('category')\n",
    "x.Fedu = x.Fedu.astype('category')\n",
    "x.Mjob = x.Mjob.astype('category')\n",
    "x.Fjob = x.Fjob.astype('category')\n",
    "x.guardian = x.guardian.astype('category')\n",
    "x.reason = x.reason.astype('category')\n",
    "x.traveltime = x.traveltime.astype('int')\n",
    "x.studytime = x.studytime.astype('int')\n",
    "x.failures = x.failures.astype('int')\n",
    "x.schoolsup = x.schoolsup.astype('category')\n",
    "x.famsup = x.famsup.astype('category')\n",
    "x.paid = x.paid.astype('category')\n",
    "x.activities = x.activities.astype('category')\n",
    "x.nursery = x.nursery.astype('category')\n",
    "x.higher = x.higher.astype('category')\n",
    "x.internet = x.internet.astype('category')\n",
    "x.romantic = x.romantic.astype('category')\n",
    "x.famrel = x.famrel.astype('int')\n",
    "x.freetime = x.freetime.astype('int')\n",
    "x.goout = x.goout.astype('int')\n",
    "x.Dalc = x.Dalc.astype('int')\n",
    "x.Walc = x.Walc.astype('int')\n",
    "x.health = x.health.astype('int')\n",
    "x.absences = x.absences.astype('int')\n",
    "#x.G1 = x.G1.astype('int')\n",
    "#x.G2 = x.G2.astype('int')\n",
    "\n",
    "print(x.school.cat.categories)\n",
    "print(x.sex.cat.categories)\n",
    "print(x.address.cat.categories)\n",
    "print(x.famsize.cat.categories)\n",
    "print(x.Pstatus.cat.categories)\n",
    "print(x.Medu.cat.categories)\n",
    "print(x.Fedu.cat.categories)\n",
    "print(x.Mjob.cat.categories)\n",
    "print(x.Fjob.cat.categories)\n",
    "print(x.guardian.cat.categories)\n",
    "print(x.reason.cat.categories)\n",
    "print(x.schoolsup.cat.categories)\n",
    "print(x.famsup.cat.categories)\n",
    "print(x.paid.cat.categories)\n",
    "print(x.activities.cat.categories)\n",
    "print(x.nursery.cat.categories)\n",
    "print(x.higher.cat.categories)\n",
    "print(x.internet.cat.categories)\n",
    "print(x.romantic.cat.categories)\n",
    "\n",
    "x.school = x.school.cat.codes\n",
    "x.sex = x.sex.cat.codes\n",
    "x.address = x.address.cat.codes\n",
    "x.famsize = x.famsize.cat.codes\n",
    "x.Pstatus = x.Pstatus.cat.codes\n",
    "x.Medu = x.Medu.cat.codes\n",
    "x.Fedu = x.Fedu.cat.codes\n",
    "x.Mjob = x.Mjob.cat.codes\n",
    "x.Fjob = x.Fjob.cat.codes\n",
    "x.guardian = x.guardian.cat.codes\n",
    "x.reason = x.reason.cat.codes\n",
    "x.schoolsup = x.schoolsup.cat.codes\n",
    "x.famsup = x.famsup.cat.codes\n",
    "x.paid = x.paid.cat.codes\n",
    "x.activities = x.activities.cat.codes\n",
    "x.nursery = x.nursery.cat.codes\n",
    "x.higher = x.higher.cat.codes\n",
    "x.internet = x.internet.cat.codes\n",
    "x.romantic = x.romantic.cat.codes"
   ]
  },
  {
   "cell_type": "code",
   "execution_count": 4,
   "metadata": {
    "collapsed": true
   },
   "outputs": [],
   "source": [
    "y1 = data[\"G1\"].astype(int)\n",
    "y2 = data[\"G2\"].astype(int)\n",
    "y3 = data[\"G3\"].astype(int)"
   ]
  },
  {
   "cell_type": "code",
   "execution_count": 5,
   "metadata": {
    "collapsed": true
   },
   "outputs": [],
   "source": [
    "x_use = x[['sex', 'failures', 'famsize', 'freetime', 'studytime']]"
   ]
  },
  {
   "cell_type": "code",
   "execution_count": 6,
   "metadata": {
    "collapsed": false
   },
   "outputs": [],
   "source": [
    "### Don't Use for Now...\n",
    "\n",
    "#y1 = pd.get_dummies(data[\"G1\"]).astype(int)\n",
    "#y2 = pd.get_dummies(data[\"G2\"]).astype(int)\n",
    "#y3 = pd.get_dummies(data[\"G3\"]).astype(int)"
   ]
  },
  {
   "cell_type": "raw",
   "metadata": {
    "collapsed": true
   },
   "source": [
    "### Prepping data for use in class, three datasets:\n",
    "###     1: continuous grades\n",
    "###     2: binary pass/fail grades\n",
    "###     3: letter grades recoded\n",
    "\n",
    "\n",
    "def gradePort(number):\n",
    "    if (number>17):\n",
    "        return \"A\"\n",
    "    elif (number>15):\n",
    "        return \"B\"\n",
    "    elif (number>13):\n",
    "        return \"C\"\n",
    "    elif (number>11):\n",
    "        return \"D\"\n",
    "    elif (number>9):\n",
    "        return \"E\"\n",
    "    else:\n",
    "        return \"F\"\n",
    "\n",
    "y1 = data[\"G1\"].astype(int)\n",
    "y2 = data[\"G2\"].astype(int)\n",
    "y3 = data[\"G3\"].astype(int)\n",
    "\n",
    "y1a = (data[\"G1\"]>9).astype(int)\n",
    "y2a = (data[\"G2\"]>0).astype(int)\n",
    "y3a = (data[\"G3\"]>9).astype(int)\n",
    "\n",
    "y1b = y1.apply(gradePort).astype('category')\n",
    "print(y1b.cat.categories)\n",
    "y1b = y1b.cat.codes\n",
    "\n",
    "y2b = y2.apply(gradePort).astype('category')\n",
    "print(y2b.cat.categories)\n",
    "y2b = y2b.cat.codes\n",
    "\n",
    "y3b = y3.apply(gradePort).astype('category')\n",
    "print(y3b.cat.categories)\n",
    "y3b = y3b.cat.codes\n",
    "\n",
    "x0 = pd.concat([x, y1, y2, y3], axis=1)\n",
    "xa = pd.concat([x, y1a, y2a, y3a], axis=1)\n",
    "xb = x = pd.concat([x, y1b, y2b, y3b], axis=1)\n",
    "\n",
    "from sklearn.cross_validation import train_test_split\n",
    "\n",
    "x0_train, x0_test, xb_train, xb_test = train_test_split(x0, xb, test_size=.25, random_state=42)\n",
    "x0_train, x0_test, xa_train, xa_test = train_test_split(x0, xa, test_size=.25, random_state=42)\n",
    "\n",
    "x0_train.to_csv(\"gradeLetterTrain.csv\")\n",
    "x0_test.to_csv(\"gradeLetterTest.csv\")\n",
    "xa_train.to_csv(\"passFailTrain.csv\")\n",
    "xa_test.to_csv(\"passFailTest.csv\")\n",
    "xb_train.to_csv(\"continuousTrain.csv\")\n",
    "xb_test.to_csv(\"continuousTest.csv\")"
   ]
  },
  {
   "cell_type": "code",
   "execution_count": 9,
   "metadata": {
    "collapsed": false
   },
   "outputs": [
    {
     "data": {
      "image/png": "[encoded data removed]",
      "text/plain": [
       "<matplotlib.figure.Figure at 0x7f3c18051198>"
      ]
     },
     "metadata": {},
     "output_type": "display_data"
    },
    {
     "data": {
      "text/plain": [
       "0.33301605431976133"
      ]
     },
     "execution_count": 9,
     "metadata": {},
     "output_type": "execute_result"
    }
   ],
   "source": [
    "from sklearn import tree\n",
    "from sklearn.cross_validation import train_test_split\n",
    "from sklearn.metrics import accuracy_score\n",
    "import matplotlib.pyplot as plt\n",
    "\n",
    "%matplotlib inline\n",
    "\n",
    "x_train, x_test, y_train, y_test = train_test_split(x, y3, test_size=.25, random_state=42)\n",
    "\n",
    "model = tree.DecisionTreeRegressor()\n",
    "\n",
    "tree = model.fit(x_train, y_train)\n",
    "\n",
    "pred = tree.predict(x_test)\n",
    "\n",
    "plt.scatter(y_test, pred)\n",
    "plt.xlabel(\"data\")\n",
    "plt.ylabel(\"predicted\")\n",
    "plt.axis([0,20,0,20])\n",
    "plt.show()\n",
    "\n",
    "np.corrcoef(y_test, pred)[0][1]"
   ]
  },
  {
   "cell_type": "code",
   "execution_count": 8,
   "metadata": {
    "collapsed": false
   },
   "outputs": [
    {
     "data": {
      "image/png": "[encoded data removed]",
      "text/plain": [
       "<matplotlib.figure.Figure at 0x7f3c2af61ba8>"
      ]
     },
     "metadata": {},
     "output_type": "display_data"
    },
    {
     "data": {
      "text/plain": [
       "0.66871275824366094"
      ]
     },
     "execution_count": 8,
     "metadata": {},
     "output_type": "execute_result"
    }
   ],
   "source": [
    "from sklearn.ensemble import RandomForestClassifier\n",
    "from sklearn.ensemble import RandomForestRegressor\n",
    "from sklearn.cross_validation import train_test_split\n",
    "from sklearn.metrics import accuracy_score\n",
    "\n",
    "model = RandomForestRegressor(n_estimators = 10000, n_jobs=-1)\n",
    "\n",
    "tree = model.fit(x_train, y_train)\n",
    "\n",
    "pred = tree.predict(x_test)\n",
    "\n",
    "plt.scatter(y_test, pred)\n",
    "plt.xlabel(\"data\")\n",
    "plt.ylabel(\"predicted\")\n",
    "plt.axis([0,20,0,20])\n",
    "plt.show()\n",
    "\n",
    "np.corrcoef(y_test, pred)[0][1]"
   ]
  },
  {
   "cell_type": "code",
   "execution_count": null,
   "metadata": {
    "collapsed": true
   },
   "outputs": [],
   "source": []
  }
 ],
 "metadata": {
  "anaconda-cloud": {},
  "kernelspec": {
   "display_name": "Python [conda root]",
   "language": "python",
   "name": "conda-root-py"
  },
  "language_info": {
   "codemirror_mode": {
    "name": "ipython",
    "version": 3
   },
   "file_extension": ".py",
   "mimetype": "text/x-python",
   "name": "python",
   "nbconvert_exporter": "python",
   "pygments_lexer": "ipython3",
   "version": "3.5.2"
  }
 },
 "nbformat": 4,
 "nbformat_minor": 0
}
