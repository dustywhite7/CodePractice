{
 "cells": [
  {
   "cell_type": "code",
   "execution_count": 1,
   "metadata": {
    "collapsed": false
   },
   "outputs": [
    {
     "name": "stderr",
     "output_type": "stream",
     "text": [
      "Using gpu device 0: GeForce GTX 1080 (CNMeM is enabled with initial size: 95.0% of memory, cuDNN 5105)\n",
      "/home/dusty/anaconda3/lib/python3.5/site-packages/theano/sandbox/cuda/__init__.py:600: UserWarning: Your cuDNN version is more recent than the one Theano officially supports. If you see any problems, try updating Theano or downgrading cuDNN to version 5.\n",
      "  warnings.warn(warn)\n"
     ]
    }
   ],
   "source": [
    "import theano\n",
    "from theano import tensor as T\n",
    "import numpy as np\n",
    "from load import mnist"
   ]
  },
  {
   "cell_type": "raw",
   "metadata": {},
   "source": [
    "# Create functions, import and divide data\n",
    "\n",
    "def floatX(x):\n",
    "    return np.asarray(x, dtype=theano.config.floatX)\n",
    "\n",
    "def init_weights(shape):\n",
    "    return theano.shared(floatX(np.random.randn(*shape) * 0.01))\n",
    "\n",
    "def model(x, w):\n",
    "    return T.nnet.softmax(T.dot(x, w))\n",
    "\n",
    "def one_hot(x,n):\n",
    "    if type(x) == list:\n",
    "        x = np.array(x)\n",
    "    x = x.flatten()\n",
    "    o_h = np.zeros((len(x),n))\n",
    "    o_h[np.arange(len(x)),x] = 1\n",
    "    return o_h\n",
    "\n",
    "trX, teX, trY, teY = mnist(onehot=True)"
   ]
  },
  {
   "cell_type": "raw",
   "metadata": {},
   "source": [
    "trainX = np.fromfile(\"train_data.bin\", dtype=np.uint8).reshape(25000,10000)\n",
    "trainY = np.fromfile(\"train_labels.bin\", dtype=np.uint8).reshape(25000,1)\n",
    "\n",
    "trainX = trainX/np.max(trainX)\n",
    "\n",
    "trainY = one_hot(trainY, 2)\n",
    "\n",
    "testX = trainX[20000:]\n",
    "testY = trainY[20000:]\n",
    "\n",
    "trainX = trainX[:20000]\n",
    "trainY = trainY[:20000]"
   ]
  },
  {
   "cell_type": "raw",
   "metadata": {},
   "source": [
    "# Create Model Graph\n",
    "\n",
    "X = T.fmatrix()\n",
    "Y = T.fmatrix()\n",
    "\n",
    "w = init_weights((784, 10))\n",
    "\n",
    "py_x = model(X, w)\n",
    "y_pred = T.argmax(py_x, axis=1)\n",
    "\n",
    "cost = T.mean(T.nnet.categorical_crossentropy(py_x, Y))\n",
    "gradient = T.grad(cost=cost, wrt=w)\n",
    "update = [[w, w - gradient * 0.05]]\n",
    "\n",
    "train = theano.function(inputs=[X, Y], outputs=cost, updates=update, allow_input_downcast=True)\n",
    "predict = theano.function(inputs=[X], outputs=y_pred, allow_input_downcast=True)\n",
    "\n",
    "for i in range(100):\n",
    "    for start, end in zip(range(0, len(trX), 128), range(128, len(trX), 128)):\n",
    "        cost = train(trX[start:end], trY[start:end])\n",
    "    if (i%10==0):\n",
    "        print(i, np.mean(np.argmax(teY, axis=1) == predict(teX)))"
   ]
  },
  {
   "cell_type": "code",
   "execution_count": 25,
   "metadata": {
    "collapsed": false
   },
   "outputs": [],
   "source": [
    "# Now for a basic neural net\n",
    "\n",
    "def floatX(x):\n",
    "    return np.asarray(x, dtype=theano.config.floatX)\n",
    "\n",
    "def init_weights(shape):\n",
    "    return theano.shared(floatX(np.random.randn(*shape) * 0.01))\n",
    "\n",
    "def sgd(cost, params, lr=0.05):\n",
    "    grads = T.grad(cost=cost, wrt=params)\n",
    "    updates = []\n",
    "    for p,g in zip(params, grads):\n",
    "        updates.append([p, p - g * lr])\n",
    "    return updates\n",
    "\n",
    "def model(X, w_h, w_h1, w_h2, w_o):\n",
    "    h = T.nnet.sigmoid(T.dot(X, w_h))\n",
    "    h = T.nnet.sigmoid(T.dot(h, w_h1))\n",
    "    h = T.nnet.sigmoid(T.dot(h, w_h2))\n",
    "    pyx = T.nnet.softmax(T.dot(h,w_o))\n",
    "    return pyx\n",
    "\n",
    "trX, teX, trY, teY = mnist(onehot=True)\n",
    "\n",
    "X = T.fmatrix()\n",
    "Y = T.fmatrix()\n",
    "\n",
    "w_h = init_weights((784,625))\n",
    "w_h1 = init_weights((625,1200))\n",
    "w_h2 = init_weights((1200,625))\n",
    "w_o = init_weights((625,10))\n",
    "\n",
    "py_x = model(X, w_h, w_h1, w_h2, w_o)\n",
    "y_x = T.argmax(py_x, axis=1)\n",
    "\n",
    "cost = T.mean(T.nnet.categorical_crossentropy(py_x, Y))\n",
    "\n",
    "params = [w_h, w_h1, w_o]\n",
    "\n",
    "updates = sgd(cost, params)\n",
    "\n",
    "train = theano.function(inputs=[X, Y], outputs=cost, updates=updates, allow_input_downcast=True)\n",
    "predict = theano.function(inputs=[X], outputs=y_x, allow_input_downcast=True)"
   ]
  },
  {
   "cell_type": "code",
   "execution_count": 26,
   "metadata": {
    "collapsed": false
   },
   "outputs": [
    {
     "name": "stdout",
     "output_type": "stream",
     "text": [
      "0 0.1135\n",
      "10 0.1135\n",
      "20 0.1135\n",
      "30 0.1135\n",
      "40 0.1135\n",
      "50 0.1731\n",
      "60 0.3536\n",
      "70 0.5299\n",
      "80 0.6671\n",
      "90 0.7869\n",
      "100 0.8263\n",
      "110 0.8494\n",
      "120 0.867\n",
      "130 0.8794\n",
      "140 0.888\n",
      "150 0.8956\n",
      "160 0.9038\n",
      "170 0.9097\n",
      "180 0.9155\n",
      "190 0.922\n",
      "200 0.9261\n",
      "210 0.9291\n",
      "220 0.9324\n",
      "230 0.9357\n",
      "240 0.9395\n",
      "250 0.9424\n",
      "260 0.9445\n",
      "270 0.9462\n",
      "280 0.9481\n",
      "290 0.9504\n",
      "300 0.9517\n",
      "310 0.9538\n",
      "320 0.9553\n",
      "330 0.9571\n",
      "340 0.9589\n",
      "350 0.9597\n",
      "360 0.9605\n",
      "370 0.9617\n",
      "380 0.9625\n",
      "390 0.9633\n"
     ]
    }
   ],
   "source": [
    "for i in range(400):\n",
    "    for start, end in zip(range(0, len(trX), 128), range(128, len(trX), 128)):\n",
    "        cost = train(trX[start:end], trY[start:end])\n",
    "    if (i%10==0):\n",
    "        print(i, np.mean(np.argmax(teY, axis=1) == predict(teX)))\n",
    "print(i, np.mean(np.argmax(teY, axis=1) == predict(teX)))"
   ]
  }
 ],
 "metadata": {
  "kernelspec": {
   "display_name": "Python [conda root]",
   "language": "python",
   "name": "conda-root-py"
  },
  "language_info": {
   "codemirror_mode": {
    "name": "ipython",
    "version": 3
   },
   "file_extension": ".py",
   "mimetype": "text/x-python",
   "name": "python",
   "nbconvert_exporter": "python",
   "pygments_lexer": "ipython3",
   "version": "3.5.2"
  }
 },
 "nbformat": 4,
 "nbformat_minor": 1
}
